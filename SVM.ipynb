{
  "cells": [
    {
      "cell_type": "markdown",
      "metadata": {
        "id": "view-in-github",
        "colab_type": "text"
      },
      "source": [
        "<a href=\"https://colab.research.google.com/github/SivalayaG/BioInf/blob/main/SVM.ipynb\" target=\"_parent\"><img src=\"https://colab.research.google.com/assets/colab-badge.svg\" alt=\"Open In Colab\"/></a>"
      ]
    },
    {
      "cell_type": "code",
      "execution_count": null,
      "metadata": {
        "id": "hpu_y_zkxej6"
      },
      "outputs": [],
      "source": [
        "import os\n",
        "import numpy as np\n",
        "import pandas as pd\n",
        "from scipy.stats import halfnorm\n",
        "from sklearn.svm import LinearSVC\n",
        "from matplotlib import pyplot as plt\n",
        "from sklearn.model_selection import KFold\n",
        "from sklearn.metrics import confusion_matrix\n",
        "from sklearn.utils._testing import ignore_warnings\n",
        "from sklearn.model_selection import RandomizedSearchCV, train_test_split"
      ]
    },
    {
      "cell_type": "code",
      "source": [
        "from google.colab import drive\n",
        "drive.mount('/content/drive')"
      ],
      "metadata": {
        "colab": {
          "base_uri": "https://localhost:8080/"
        },
        "id": "2vaAbA8prSPU",
        "outputId": "d082aedc-cdbc-4d5f-93e1-fbba9b50b1e0"
      },
      "execution_count": null,
      "outputs": [
        {
          "output_type": "stream",
          "name": "stdout",
          "text": [
            "Drive already mounted at /content/drive; to attempt to forcibly remount, call drive.mount(\"/content/drive\", force_remount=True).\n"
          ]
        }
      ]
    },
    {
      "cell_type": "code",
      "execution_count": null,
      "metadata": {
        "colab": {
          "base_uri": "https://localhost:8080/",
          "height": 424
        },
        "id": "xS0NjHnsrJdS",
        "outputId": "d086df4a-044e-4d09-94b3-84c136b86f13"
      },
      "outputs": [
        {
          "output_type": "execute_result",
          "data": {
            "text/plain": [
              "     component1  component2  y\n",
              "0      0.005477   -0.001006  1\n",
              "1      0.204483    0.044904  1\n",
              "2     -0.087482    0.021875  1\n",
              "3      0.034319   -0.122092  1\n",
              "4      0.039086    0.013469  1\n",
              "..          ...         ... ..\n",
              "587    0.172334    0.213057  1\n",
              "588   -0.015920   -0.062548  1\n",
              "589    0.263756    0.690210  1\n",
              "590    0.218608    0.029319  1\n",
              "591   -0.123525   -0.088100  1\n",
              "\n",
              "[592 rows x 3 columns]"
            ],
            "text/html": [
              "\n",
              "  <div id=\"df-8ca3191f-77f9-4ed2-a9f8-00f678427556\">\n",
              "    <div class=\"colab-df-container\">\n",
              "      <div>\n",
              "<style scoped>\n",
              "    .dataframe tbody tr th:only-of-type {\n",
              "        vertical-align: middle;\n",
              "    }\n",
              "\n",
              "    .dataframe tbody tr th {\n",
              "        vertical-align: top;\n",
              "    }\n",
              "\n",
              "    .dataframe thead th {\n",
              "        text-align: right;\n",
              "    }\n",
              "</style>\n",
              "<table border=\"1\" class=\"dataframe\">\n",
              "  <thead>\n",
              "    <tr style=\"text-align: right;\">\n",
              "      <th></th>\n",
              "      <th>component1</th>\n",
              "      <th>component2</th>\n",
              "      <th>y</th>\n",
              "    </tr>\n",
              "  </thead>\n",
              "  <tbody>\n",
              "    <tr>\n",
              "      <th>0</th>\n",
              "      <td>0.005477</td>\n",
              "      <td>-0.001006</td>\n",
              "      <td>1</td>\n",
              "    </tr>\n",
              "    <tr>\n",
              "      <th>1</th>\n",
              "      <td>0.204483</td>\n",
              "      <td>0.044904</td>\n",
              "      <td>1</td>\n",
              "    </tr>\n",
              "    <tr>\n",
              "      <th>2</th>\n",
              "      <td>-0.087482</td>\n",
              "      <td>0.021875</td>\n",
              "      <td>1</td>\n",
              "    </tr>\n",
              "    <tr>\n",
              "      <th>3</th>\n",
              "      <td>0.034319</td>\n",
              "      <td>-0.122092</td>\n",
              "      <td>1</td>\n",
              "    </tr>\n",
              "    <tr>\n",
              "      <th>4</th>\n",
              "      <td>0.039086</td>\n",
              "      <td>0.013469</td>\n",
              "      <td>1</td>\n",
              "    </tr>\n",
              "    <tr>\n",
              "      <th>...</th>\n",
              "      <td>...</td>\n",
              "      <td>...</td>\n",
              "      <td>...</td>\n",
              "    </tr>\n",
              "    <tr>\n",
              "      <th>587</th>\n",
              "      <td>0.172334</td>\n",
              "      <td>0.213057</td>\n",
              "      <td>1</td>\n",
              "    </tr>\n",
              "    <tr>\n",
              "      <th>588</th>\n",
              "      <td>-0.015920</td>\n",
              "      <td>-0.062548</td>\n",
              "      <td>1</td>\n",
              "    </tr>\n",
              "    <tr>\n",
              "      <th>589</th>\n",
              "      <td>0.263756</td>\n",
              "      <td>0.690210</td>\n",
              "      <td>1</td>\n",
              "    </tr>\n",
              "    <tr>\n",
              "      <th>590</th>\n",
              "      <td>0.218608</td>\n",
              "      <td>0.029319</td>\n",
              "      <td>1</td>\n",
              "    </tr>\n",
              "    <tr>\n",
              "      <th>591</th>\n",
              "      <td>-0.123525</td>\n",
              "      <td>-0.088100</td>\n",
              "      <td>1</td>\n",
              "    </tr>\n",
              "  </tbody>\n",
              "</table>\n",
              "<p>592 rows × 3 columns</p>\n",
              "</div>\n",
              "      <button class=\"colab-df-convert\" onclick=\"convertToInteractive('df-8ca3191f-77f9-4ed2-a9f8-00f678427556')\"\n",
              "              title=\"Convert this dataframe to an interactive table.\"\n",
              "              style=\"display:none;\">\n",
              "        \n",
              "  <svg xmlns=\"http://www.w3.org/2000/svg\" height=\"24px\"viewBox=\"0 0 24 24\"\n",
              "       width=\"24px\">\n",
              "    <path d=\"M0 0h24v24H0V0z\" fill=\"none\"/>\n",
              "    <path d=\"M18.56 5.44l.94 2.06.94-2.06 2.06-.94-2.06-.94-.94-2.06-.94 2.06-2.06.94zm-11 1L8.5 8.5l.94-2.06 2.06-.94-2.06-.94L8.5 2.5l-.94 2.06-2.06.94zm10 10l.94 2.06.94-2.06 2.06-.94-2.06-.94-.94-2.06-.94 2.06-2.06.94z\"/><path d=\"M17.41 7.96l-1.37-1.37c-.4-.4-.92-.59-1.43-.59-.52 0-1.04.2-1.43.59L10.3 9.45l-7.72 7.72c-.78.78-.78 2.05 0 2.83L4 21.41c.39.39.9.59 1.41.59.51 0 1.02-.2 1.41-.59l7.78-7.78 2.81-2.81c.8-.78.8-2.07 0-2.86zM5.41 20L4 18.59l7.72-7.72 1.47 1.35L5.41 20z\"/>\n",
              "  </svg>\n",
              "      </button>\n",
              "      \n",
              "  <style>\n",
              "    .colab-df-container {\n",
              "      display:flex;\n",
              "      flex-wrap:wrap;\n",
              "      gap: 12px;\n",
              "    }\n",
              "\n",
              "    .colab-df-convert {\n",
              "      background-color: #E8F0FE;\n",
              "      border: none;\n",
              "      border-radius: 50%;\n",
              "      cursor: pointer;\n",
              "      display: none;\n",
              "      fill: #1967D2;\n",
              "      height: 32px;\n",
              "      padding: 0 0 0 0;\n",
              "      width: 32px;\n",
              "    }\n",
              "\n",
              "    .colab-df-convert:hover {\n",
              "      background-color: #E2EBFA;\n",
              "      box-shadow: 0px 1px 2px rgba(60, 64, 67, 0.3), 0px 1px 3px 1px rgba(60, 64, 67, 0.15);\n",
              "      fill: #174EA6;\n",
              "    }\n",
              "\n",
              "    [theme=dark] .colab-df-convert {\n",
              "      background-color: #3B4455;\n",
              "      fill: #D2E3FC;\n",
              "    }\n",
              "\n",
              "    [theme=dark] .colab-df-convert:hover {\n",
              "      background-color: #434B5C;\n",
              "      box-shadow: 0px 1px 3px 1px rgba(0, 0, 0, 0.15);\n",
              "      filter: drop-shadow(0px 1px 2px rgba(0, 0, 0, 0.3));\n",
              "      fill: #FFFFFF;\n",
              "    }\n",
              "  </style>\n",
              "\n",
              "      <script>\n",
              "        const buttonEl =\n",
              "          document.querySelector('#df-8ca3191f-77f9-4ed2-a9f8-00f678427556 button.colab-df-convert');\n",
              "        buttonEl.style.display =\n",
              "          google.colab.kernel.accessAllowed ? 'block' : 'none';\n",
              "\n",
              "        async function convertToInteractive(key) {\n",
              "          const element = document.querySelector('#df-8ca3191f-77f9-4ed2-a9f8-00f678427556');\n",
              "          const dataTable =\n",
              "            await google.colab.kernel.invokeFunction('convertToInteractive',\n",
              "                                                     [key], {});\n",
              "          if (!dataTable) return;\n",
              "\n",
              "          const docLinkHtml = 'Like what you see? Visit the ' +\n",
              "            '<a target=\"_blank\" href=https://colab.research.google.com/notebooks/data_table.ipynb>data table notebook</a>'\n",
              "            + ' to learn more about interactive tables.';\n",
              "          element.innerHTML = '';\n",
              "          dataTable['output_type'] = 'display_data';\n",
              "          await google.colab.output.renderOutput(dataTable, element);\n",
              "          const docLink = document.createElement('div');\n",
              "          docLink.innerHTML = docLinkHtml;\n",
              "          element.appendChild(docLink);\n",
              "        }\n",
              "      </script>\n",
              "    </div>\n",
              "  </div>\n",
              "  "
            ]
          },
          "metadata": {},
          "execution_count": 24
        }
      ],
      "source": [
        "## Obtain and clean our final train data\n",
        "\n",
        "train_data = pd.read_csv('/content/drive/MyDrive/trainset2.csv')\n",
        "train_data"
      ]
    },
    {
      "cell_type": "code",
      "execution_count": null,
      "metadata": {
        "colab": {
          "base_uri": "https://localhost:8080/"
        },
        "id": "BeRVnhM5rJdU",
        "outputId": "16f25d26-c853-4ead-8970-32aac6e027e7"
      },
      "outputs": [
        {
          "output_type": "execute_result",
          "data": {
            "text/plain": [
              "1    533\n",
              "0     59\n",
              "Name: y, dtype: int64"
            ]
          },
          "metadata": {},
          "execution_count": 25
        }
      ],
      "source": [
        "## We have 533 tumor genes data and 59 normal genes data\n",
        "\n",
        "train_data.y.value_counts()"
      ]
    },
    {
      "cell_type": "code",
      "execution_count": null,
      "metadata": {
        "colab": {
          "base_uri": "https://localhost:8080/"
        },
        "id": "bZBVdNlQrJdV",
        "outputId": "e622e1f2-a8cc-4569-957f-b738bf544b2a"
      },
      "outputs": [
        {
          "output_type": "execute_result",
          "data": {
            "text/plain": [
              "((592, 2), (592, 1))"
            ]
          },
          "metadata": {},
          "execution_count": 26
        }
      ],
      "source": [
        "## Create x and y separately from out train data\n",
        "\n",
        "x = train_data.drop(['y'], axis = 1, inplace = False).to_numpy()\n",
        "y = train_data[['y']].to_numpy()\n",
        "\n",
        "x.shape, y.shape"
      ]
    },
    {
      "cell_type": "code",
      "execution_count": null,
      "metadata": {
        "colab": {
          "base_uri": "https://localhost:8080/"
        },
        "id": "OVPAzjOrrJdW",
        "outputId": "aba792c9-1652-485d-e257-189db82a704f"
      },
      "outputs": [
        {
          "output_type": "execute_result",
          "data": {
            "text/plain": [
              "((473, 2), (473, 1), (119, 2), (119, 1))"
            ]
          },
          "metadata": {},
          "execution_count": 27
        }
      ],
      "source": [
        "## We split our data into train and test split by 80/20 ratio\n",
        "\n",
        "from sklearn.model_selection import train_test_split\n",
        "train_x, test_x, train_y, test_y = train_test_split(x, y, stratify=y, test_size=0.20)\n",
        "\n",
        "train_x.shape, train_y.shape, test_x.shape, test_y.shape"
      ]
    },
    {
      "cell_type": "code",
      "execution_count": null,
      "metadata": {
        "colab": {
          "base_uri": "https://localhost:8080/"
        },
        "id": "lNbl9hIbrJdW",
        "outputId": "078cc240-3301-4b51-9c5f-b2f4ef6bd104"
      },
      "outputs": [
        {
          "output_type": "stream",
          "name": "stdout",
          "text": [
            "[[  0  12]\n",
            " [  1 107]]\n"
          ]
        }
      ],
      "source": [
        "## We verify the stratified sampling in our test data \n",
        "## by checking number of tumors vs non-tumors\n",
        "\n",
        "unique, counts = np.unique(test_y, return_counts=True)\n",
        "print(np.asarray((unique, counts)).T)"
      ]
    },
    {
      "cell_type": "code",
      "execution_count": null,
      "metadata": {
        "id": "0giQTXk3rJdX"
      },
      "outputs": [],
      "source": [
        "from sklearn.metrics import confusion_matrix, plot_confusion_matrix, classification_report\n",
        "from sklearn.metrics import ConfusionMatrixDisplay\n",
        "\n",
        "def val_acc_class_report_error_analysis(name, model, val_x, val_y, accuracy_only=False):\n",
        "    pred_y  = model.predict(val_x)\n",
        "    cm = confusion_matrix(val_y, pred_y)\n",
        "    print('Model: {}'.format(name))\n",
        "    \n",
        "    ### Use the confusion matrix to compute (using NumPy) the accuracy (call the result 'val_acc')\n",
        "\n",
        "    val_acc = (cm.trace()) / cm.sum()\n",
        "    \n",
        "    print('--- Validation accuracy: {: .2f}%\\n'.format(val_acc*100))\n",
        "    \n",
        "    if accuracy_only:\n",
        "        return\n",
        "    \n",
        "    classes = [str(d) for d in range(0, 10)]\n",
        "    print('--- Classification Report: ')\n",
        "    \n",
        "    ### Print the classification report with 3 digits of precision\n",
        "    \n",
        "    print(classification_report(val_y, pred_y, digits=3))\n",
        "          \n",
        "    # fig = plt.figure(figsize=(10,8))\n",
        "    # ax = plt.gca()\n",
        "    # note: depending on your sklearn version, you may get a warning/error because `plot_confusion_matrix` is deprecated\n",
        "    # if so, you should use ConfusionMatrixDisplay instead and fix the code so it plots the confusion matrix\n",
        "    disp = ConfusionMatrixDisplay(cm)\n",
        "    disp.plot()\n",
        "    plt.show()"
      ]
    },
    {
      "cell_type": "code",
      "execution_count": null,
      "metadata": {
        "colab": {
          "base_uri": "https://localhost:8080/"
        },
        "id": "NzWochJbrJdZ",
        "outputId": "34e2d443-dedf-4d35-831d-cdbf8fe571f6"
      },
      "outputs": [
        {
          "output_type": "execute_result",
          "data": {
            "text/plain": [
              "{'C': array([1.11820641e+01, 9.76920599e+01, 1.61991739e+01, 3.07337842e+01,\n",
              "        1.06427937e+02, 1.05637718e+02, 1.82199271e+02, 2.40206440e+02,\n",
              "        3.06535435e+01, 1.87747516e+02, 1.52801947e+02, 7.91977675e+01,\n",
              "        1.21566783e+02, 5.94498651e+01, 4.43520790e+01, 1.69094603e+01,\n",
              "        3.95744941e+01, 4.44865283e+01, 6.82109806e+01, 2.26122088e+02,\n",
              "        9.56153071e+01, 3.24281874e+01, 2.87436324e+01, 6.65613900e+00,\n",
              "        8.21942674e+01, 3.54044951e+01, 2.87461234e+01, 3.06639719e+01,\n",
              "        8.65179998e+01, 1.10817203e+02, 3.42535474e+01, 5.06349442e+01,\n",
              "        8.80367578e+01, 3.25312859e+01, 1.33699096e+02, 3.45235113e+01,\n",
              "        1.46809959e+01, 6.92334783e+01, 1.63098089e+02, 1.78817005e+02,\n",
              "        2.34001691e+02, 2.18615373e+01, 1.89742062e+01, 4.61058119e+01,\n",
              "        1.16477330e+02, 1.24115854e+02, 6.90372487e+01, 2.79277460e-02,\n",
              "        1.21407599e+02, 1.05961545e+02, 2.49182983e+02, 3.73776653e+01,\n",
              "        8.02898925e+01, 3.13459190e+01, 1.51737151e+02, 9.38235118e+01,\n",
              "        4.72139072e+01, 1.00627378e+02, 1.20926383e+02, 8.77235220e+01,\n",
              "        3.01728447e+01, 2.08414352e+01, 1.77922987e+02, 1.10864674e+02,\n",
              "        1.61683412e+02, 3.50363336e+01, 1.22096527e+01, 7.98055653e+01,\n",
              "        8.83970762e+01, 1.68813195e+02, 1.53361360e+00, 2.17098429e+01,\n",
              "        7.45573640e+00, 1.10401338e+02, 1.88817480e+01, 3.21183356e+01,\n",
              "        2.01965333e+01, 1.26395192e+02, 1.15337731e+02, 1.13475001e+01,\n",
              "        3.00293828e+01, 1.63687927e+02, 1.47357975e+02, 1.39548382e+02,\n",
              "        6.55172009e+01, 2.43005289e+01, 7.84198285e+01, 1.77206600e+01,\n",
              "        6.61548545e+01, 6.88724906e+01, 7.76440868e+01, 4.21716317e+01,\n",
              "        4.24547950e-01, 1.44629674e+01, 5.64688751e+01, 1.19768800e+02,\n",
              "        8.45550071e+01, 9.95571805e+01, 5.99911271e+01, 4.36508684e+01,\n",
              "        2.97654480e+01, 2.05169906e+01, 1.27030553e+02, 4.42017328e+01,\n",
              "        1.42578647e+01, 4.08417057e+01, 1.40502414e+02, 3.32610666e+01,\n",
              "        5.65400477e+01, 3.60976166e+01, 1.06406121e+02, 1.56646613e+02,\n",
              "        3.59128015e+01, 1.83538008e+01, 3.22455242e+01, 6.57451853e+01,\n",
              "        5.61655304e+01, 2.17513631e+01, 6.39262200e+01, 1.37305396e+02,\n",
              "        1.34417665e+01, 1.50297593e+02, 1.60351948e+02, 9.34789199e+01,\n",
              "        1.05707889e+02, 8.60784771e+01, 1.45819789e+01, 2.28480602e+00,\n",
              "        2.52508377e+01, 9.48121388e+01, 5.35947414e+01, 2.29054581e+00,\n",
              "        1.99673688e+02, 6.84537165e+01, 1.40861481e+02, 4.45667381e+01,\n",
              "        9.70471680e+01, 3.14594441e-01, 8.42383431e+01, 1.44578161e+02,\n",
              "        1.08250186e+02, 8.73246973e+01, 6.26250988e+01, 2.05833270e+02,\n",
              "        5.59931763e+00, 3.64816694e+01, 6.53790390e+01, 8.94914639e+01,\n",
              "        8.99377244e+01, 6.60475240e+01, 5.14802070e+01, 7.71226732e+01,\n",
              "        1.73027086e+02, 2.04807112e+02, 1.63891149e+02, 7.09223674e+01,\n",
              "        1.50515184e+02, 8.20215699e+01, 2.48011667e+01, 5.25318892e+00,\n",
              "        9.24214652e+01, 8.64027824e+01, 1.50236018e+01, 1.55395713e+02,\n",
              "        2.47110228e+01, 1.06365189e+02, 1.27478521e+01, 8.68329967e+01,\n",
              "        2.26364662e+01, 1.25575134e+02, 1.32248694e+02, 5.43806799e+01,\n",
              "        9.93078486e+01, 1.30940363e+02, 4.47248850e+01, 3.65772549e+01,\n",
              "        2.96744354e+00, 7.93569568e+01, 2.55042648e+01, 1.55509893e+02,\n",
              "        1.36945823e+01, 7.84253264e+01, 6.05689898e+01, 4.70486411e+01,\n",
              "        9.01776499e+01, 4.92152919e+01, 8.37365549e+01, 6.25231394e+01,\n",
              "        4.51809557e+01, 6.30303390e+01, 7.59682770e+00, 8.48020524e+00,\n",
              "        3.42108344e+01, 1.69067622e+02, 2.12788667e+01, 2.26249865e+01,\n",
              "        1.35277327e+02, 1.22366644e+02, 1.09121640e+02, 9.80404435e+01,\n",
              "        5.02247961e+01, 1.87033566e+02, 2.80175943e+01, 9.45210128e+01,\n",
              "        4.45769915e+00, 9.97376857e+01, 1.49670350e+02, 1.48478541e+02,\n",
              "        1.96095591e+02, 9.88473974e+01, 1.02716884e+02, 8.63245206e+01,\n",
              "        1.71029849e+02, 8.57677692e+01, 1.79739211e+01, 7.22856920e+01,\n",
              "        6.40086970e+01, 3.21234229e+01, 1.23340104e+02, 6.60805333e+01,\n",
              "        1.10397465e+02, 1.14564727e+02, 9.25981238e+01, 7.20325337e+01,\n",
              "        1.95048155e+02, 8.37653048e+00, 6.87604838e+01, 2.19438407e+02,\n",
              "        7.39194951e+01, 7.09467461e+01, 1.02197785e+02, 1.59238106e+01,\n",
              "        4.33374859e+01, 5.29317643e+01, 3.17709286e+01, 2.85557667e+02,\n",
              "        2.36875865e+02, 5.78104732e+01, 5.48866694e+01, 4.50366275e+01,\n",
              "        5.93860064e+01, 8.36217274e+01, 6.64060577e+01, 1.92049235e+01,\n",
              "        1.30790352e+01, 1.69649296e+01, 7.20196682e+01, 9.55717348e+01,\n",
              "        1.81489589e+02, 6.51465229e+01, 2.05919424e+02, 1.02414071e+02,\n",
              "        4.55312760e+01, 1.11995251e+01, 1.09941845e+02, 4.15171568e+01,\n",
              "        3.69709061e+01, 7.89395644e+01, 3.67497503e+00, 3.00439151e+02,\n",
              "        1.44018910e+02, 1.09397230e+02, 1.09133632e+02, 2.15092364e+02,\n",
              "        1.29348816e+02, 3.27712197e+02, 1.45020478e+02, 2.55399693e+02,\n",
              "        2.17404920e+02, 1.04131810e+02, 7.96052078e+01, 5.79080081e+01,\n",
              "        2.37808312e+02, 3.18083810e+01, 5.67356322e+01, 5.29275410e+01,\n",
              "        9.83282145e+01, 4.59240641e+00, 1.03668978e+02, 7.99101079e+01,\n",
              "        1.21796072e+02, 1.22030113e+02, 4.77363950e+01, 1.61404104e+02,\n",
              "        1.73698198e+02, 8.72247791e+01, 7.77844691e+01, 1.17355809e+02,\n",
              "        2.41309160e+01, 1.76113702e+01, 1.54910373e+02, 2.78119330e+01,\n",
              "        8.84649384e+01, 2.05879185e+00, 4.63477365e+01, 5.83980422e+01,\n",
              "        1.06175448e+01, 1.76421459e+02, 7.00388276e+01, 2.49251830e+01,\n",
              "        1.53477171e+02, 1.10473932e+02, 1.45067371e+02, 9.01011780e+01,\n",
              "        1.37076531e+02, 1.10488035e+02, 1.20000188e+02, 2.20938990e+01,\n",
              "        2.41145930e+01, 6.40857762e+01, 1.31197230e+02, 4.75786224e+01,\n",
              "        1.31301049e+01, 3.12773593e+01, 7.17135068e+00, 6.08189227e+01,\n",
              "        1.92383534e+02, 1.87066708e+02, 8.81235701e+01, 2.24860712e+01,\n",
              "        2.34890130e+01, 1.37490304e+01, 8.56455438e+00, 9.23892316e+01,\n",
              "        6.99622971e+01, 7.38794642e+01, 1.14908188e+02, 2.48131392e+01,\n",
              "        1.80133821e+01, 1.26168570e+02, 1.61806797e+02, 1.35473853e+02,\n",
              "        3.03742427e+01, 4.97707174e+01, 1.09433296e+02, 2.85267306e+01,\n",
              "        3.47656734e+01, 7.84002135e+01, 1.01642012e+02, 1.57411808e+02,\n",
              "        1.60410199e+01, 1.19668247e+02, 1.22920549e+02, 2.30347292e+02,\n",
              "        6.06258264e-01, 1.70473585e+02, 2.23197049e+01, 3.26948859e+01,\n",
              "        1.21025882e+02, 1.29248132e+02, 1.41197100e+02, 3.01522737e+01,\n",
              "        2.26274006e+00, 8.41239199e+00, 6.03615062e+01, 7.59421544e+01,\n",
              "        3.52335713e+01, 7.25838847e+01, 4.62081742e+01, 1.92984319e+01,\n",
              "        2.22612922e+01, 4.05112704e+01, 1.31562430e+02, 6.46111804e+01,\n",
              "        8.63830352e+01, 5.27149772e+01, 5.17619622e+01, 6.24323933e+01,\n",
              "        8.00271061e+01, 6.67850335e+01, 7.28276936e+01, 1.96695781e+01,\n",
              "        1.22136290e+02, 1.02477982e+02, 2.74804600e+01, 7.59682061e+00,\n",
              "        4.56872269e+01, 9.61558668e+01, 6.83201153e+01, 1.40454273e+02,\n",
              "        1.82131186e+01, 4.05866245e+01, 1.08917917e+02, 7.41533981e+01,\n",
              "        6.59174022e+01, 6.63225638e+01, 2.21872086e+02, 2.86254809e+00,\n",
              "        1.14965006e+01, 5.45999903e+01, 2.48751529e+02, 8.11198500e+01,\n",
              "        1.35392568e+02, 1.73194960e+01, 1.76938147e+02, 8.55278252e+01,\n",
              "        8.23273419e+01, 1.28310110e+02, 7.98500759e+01, 5.93630766e+01,\n",
              "        6.24539322e+01, 2.32728006e+02, 1.19088222e+02, 5.90049072e+01,\n",
              "        9.63127295e+01, 1.95964035e+02, 4.69686691e+01, 1.71642869e+01,\n",
              "        2.17836497e+01, 8.78103024e+01, 4.22070540e+01, 6.15707364e+01,\n",
              "        1.10851135e+02, 1.69594387e+02, 1.64718608e+02, 1.27163628e+01,\n",
              "        1.03795078e+02, 1.52891114e+02, 3.36346476e+01, 4.34031475e+01,\n",
              "        1.66349825e+02, 3.66035976e+01, 8.07617653e+01, 1.79008927e+02,\n",
              "        3.88023233e+01, 6.11857712e+01, 1.85863223e+02, 1.12167775e+02,\n",
              "        6.75051811e+01, 1.51098335e+01, 5.92665085e+01, 3.32601773e+01,\n",
              "        1.59708327e+01, 4.18955206e+01, 8.71278568e+01, 8.68541979e+01,\n",
              "        2.74844966e+02, 1.93616551e+02, 1.87341744e+02, 1.27721542e+02,\n",
              "        2.51819648e+01, 5.68864955e+01, 6.38553380e+00, 6.17722143e+01,\n",
              "        3.40929264e+01, 1.05398719e+00, 1.68732453e+02, 9.21224011e+01,\n",
              "        5.08144380e+01, 7.25709705e-01, 1.63114243e+01, 1.71743965e+02,\n",
              "        9.23310912e+01, 1.41699911e+02, 9.18607012e+01, 4.16935776e+01,\n",
              "        6.00581744e+01, 9.08824376e+01, 1.64487985e+02, 5.02339225e+01,\n",
              "        1.10532192e+01, 2.05811297e+02, 5.23968513e+01, 1.48531294e+01,\n",
              "        1.27856277e+02, 1.57186068e+02, 1.39654123e+01, 7.62503598e+01,\n",
              "        7.25769281e+01, 1.58238134e+01, 2.85185018e+01, 1.69081145e+02,\n",
              "        4.95389506e+01, 6.75356425e+01, 1.17617629e+01, 4.26360180e+01,\n",
              "        1.82223492e+01, 1.18326078e+02, 1.17819936e+01, 1.91162658e+01,\n",
              "        1.30070261e+02, 1.78524992e+02, 1.10983872e+02, 2.82906192e+01,\n",
              "        1.27055627e+02, 1.35827809e+02, 1.13866375e+02, 2.47448840e+02,\n",
              "        2.29262894e+01, 2.55760490e+01, 4.11430428e+01, 8.26816324e+01,\n",
              "        1.05829468e+02, 1.54381251e+02, 2.39926470e+01, 1.34594748e+00,\n",
              "        7.93566576e+01, 1.17703374e+02, 4.20932613e+01, 5.71460255e+01]),\n",
              " 'penalty': ['l1', 'l2'],\n",
              " 'loss': ['hinge', 'squared_hinge']}"
            ]
          },
          "metadata": {},
          "execution_count": 30
        }
      ],
      "source": [
        "## Define our model and hyperparameters' range to tune for getting bext model\n",
        "\n",
        "param_dist = dict(C=halfnorm.rvs(loc=0, scale=100.0, size=500), penalty=['l1', 'l2'], loss=['hinge', 'squared_hinge'])\n",
        "model = LinearSVC(max_iter=5000, dual=True, random_state=42)\n",
        "\n",
        "param_dist"
      ]
    },
    {
      "cell_type": "code",
      "execution_count": null,
      "metadata": {
        "colab": {
          "base_uri": "https://localhost:8080/"
        },
        "id": "ftvlwm0OrJda",
        "outputId": "0be217ce-74e6-462e-a5d7-b2036b6f613f"
      },
      "outputs": [
        {
          "output_type": "execute_result",
          "data": {
            "text/plain": [
              "{'penalty': 'l2', 'loss': 'squared_hinge', 'C': 86.38303524381578}"
            ]
          },
          "metadata": {},
          "execution_count": 31
        }
      ],
      "source": [
        "## Train our model using RandomizedSearchCV with 10 kfold for cross validation\n",
        "\n",
        "\n",
        "@ignore_warnings()\n",
        "def do_randomized_search(model, param_dist):\n",
        "    # RandomizedSearchCV class of scikit-learn to do a randomized search (use 'model')\n",
        "    # We compute accuracy as scoring function and return the result of fit() on the training data \n",
        "    \n",
        "    rs_cv = RandomizedSearchCV(model, param_distributions=param_dist, scoring='accuracy', cv = 10, random_state=42)\n",
        "    return rs_cv.fit(train_x, train_y)\n",
        "\n",
        "# Print best hyperparameters\n",
        "rs_res = do_randomized_search(model, param_dist)\n",
        "rs_res.best_params_"
      ]
    },
    {
      "cell_type": "code",
      "execution_count": null,
      "metadata": {
        "colab": {
          "base_uri": "https://localhost:8080/",
          "height": 516
        },
        "id": "hsuiOJemrJdb",
        "outputId": "0bf2b86e-cca6-46dc-fc71-40c01f9b4ff1"
      },
      "outputs": [
        {
          "output_type": "stream",
          "name": "stdout",
          "text": [
            "Model: Support Vector Machine\n",
            "--- Validation accuracy:  94.96%\n",
            "\n",
            "--- Classification Report: \n",
            "              precision    recall  f1-score   support\n",
            "\n",
            "           0      0.750     0.750     0.750        12\n",
            "           1      0.972     0.972     0.972       107\n",
            "\n",
            "    accuracy                          0.950       119\n",
            "   macro avg      0.861     0.861     0.861       119\n",
            "weighted avg      0.950     0.950     0.950       119\n",
            "\n"
          ]
        },
        {
          "output_type": "display_data",
          "data": {
            "text/plain": [
              "<Figure size 432x288 with 2 Axes>"
            ],
            "image/png": "[encoded data removed]"
          },
          "metadata": {
            "needs_background": "light"
          }
        }
      ],
      "source": [
        "## Print accuracy and classification report to analyze results\n",
        "\n",
        "best_model = rs_res.best_estimator_\n",
        "val_acc_class_report_error_analysis(\"Support Vector Machine\", best_model, test_x, test_y)"
      ]
    },
    {
      "cell_type": "code",
      "execution_count": null,
      "metadata": {
        "id": "nwnTjIaprJdc"
      },
      "outputs": [],
      "source": [
        "## SVM model is trained and results are visualized"
      ]
    },
    {
      "cell_type": "code",
      "execution_count": null,
      "metadata": {
        "colab": {
          "base_uri": "https://localhost:8080/"
        },
        "id": "9mHx84XFrJdc",
        "outputId": "faf2b448-858e-4f6b-82d3-1789f43fe96f"
      },
      "outputs": [
        {
          "output_type": "execute_result",
          "data": {
            "text/plain": [
              "0.9407801418439717"
            ]
          },
          "metadata": {},
          "execution_count": 33
        }
      ],
      "source": [
        "rs_res.best_score_"
      ]
    },
    {
      "cell_type": "code",
      "source": [
        "color = ['green' if c == 0 else 'red' for c in y]\n",
        "plt.scatter(train_data.iloc[:,0], train_data.iloc[:,1], c=color, marker=\"o\", s=1)\n",
        "\n",
        "# Create the hyperplane\n",
        "w = best_model.coef_[0]\n",
        "a = -w[0] / w[1]\n",
        "xx = np.linspace(-1,1)\n",
        "yy = a * xx - (best_model.intercept_[0]) / w[1]\n",
        "\n",
        "plt.text(1.2,1.1,'O : cancerous genes', fontsize = 12, color='r')\n",
        "plt.text(1.2,1,'O : non-cancerous genes', fontsize = 12, color='g')\n",
        "\n",
        "\n",
        "# Plot the hyperplane\n",
        "plt.plot(xx, yy)\n",
        "plt.show()"
      ],
      "metadata": {
        "colab": {
          "base_uri": "https://localhost:8080/",
          "height": 291
        },
        "id": "_sTed0sDOJ4n",
        "outputId": "3d1fa1af-5ace-492c-db9b-d8c080f1315c"
      },
      "execution_count": null,
      "outputs": [
        {
          "output_type": "display_data",
          "data": {
            "text/plain": [
              "<Figure size 432x288 with 1 Axes>"
            ],
            "image/png": "[encoded data removed]"
          },
          "metadata": {
            "needs_background": "light"
          }
        }
      ]
    },
    {
      "cell_type": "code",
      "source": [],
      "metadata": {
        "id": "hCKZEn4fba9_"
      },
      "execution_count": null,
      "outputs": []
    }
  ],
  "metadata": {
    "colab": {
      "provenance": [],
      "include_colab_link": true
    },
    "kernelspec": {
      "display_name": "Python 3.7.12 ('sud_1')",
      "language": "python",
      "name": "python3"
    },
    "language_info": {
      "codemirror_mode": {
        "name": "ipython",
        "version": 3
      },
      "file_extension": ".py",
      "mimetype": "text/x-python",
      "name": "python",
      "nbconvert_exporter": "python",
      "pygments_lexer": "ipython3",
      "version": "3.7.12"
    },
    "vscode": {
      "interpreter": {
        "hash": "4078720546f67ba9cf17d2ceeafaac453cc286478b2724ee8f56a5f25142e06f"
      }
    }
  },
  "nbformat": 4,
  "nbformat_minor": 0
}