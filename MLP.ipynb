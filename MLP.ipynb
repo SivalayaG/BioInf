{
  "cells": [
    {
      "cell_type": "markdown",
      "metadata": {
        "id": "view-in-github",
        "colab_type": "text"
      },
      "source": [
        "<a href=\"https://colab.research.google.com/github/SivalayaG/BioInf/blob/main/MLP.ipynb\" target=\"_parent\"><img src=\"https://colab.research.google.com/assets/colab-badge.svg\" alt=\"Open In Colab\"/></a>"
      ]
    },
    {
      "cell_type": "code",
      "execution_count": null,
      "metadata": {
        "id": "hpu_y_zkxej6"
      },
      "outputs": [],
      "source": [
        "import os\n",
        "import numpy as np\n",
        "import pandas as pd\n",
        "from scipy.stats import halfnorm\n",
        "from sklearn.neural_network import MLPClassifier\n",
        "from matplotlib import pyplot as plt\n",
        "from sklearn.model_selection import KFold\n",
        "from sklearn.metrics import confusion_matrix\n",
        "from sklearn.utils._testing import ignore_warnings\n",
        "from sklearn.model_selection import RandomizedSearchCV, train_test_split"
      ]
    },
    {
      "cell_type": "code",
      "source": [
        "from google.colab import drive\n",
        "drive.mount('/content/drive')"
      ],
      "metadata": {
        "colab": {
          "base_uri": "https://localhost:8080/"
        },
        "id": "2vaAbA8prSPU",
        "outputId": "0789f557-80b7-4da6-d99f-c945de590022"
      },
      "execution_count": null,
      "outputs": [
        {
          "output_type": "stream",
          "name": "stdout",
          "text": [
            "Drive already mounted at /content/drive; to attempt to forcibly remount, call drive.mount(\"/content/drive\", force_remount=True).\n"
          ]
        }
      ]
    },
    {
      "cell_type": "code",
      "execution_count": null,
      "metadata": {
        "colab": {
          "base_uri": "https://localhost:8080/",
          "height": 424
        },
        "id": "xS0NjHnsrJdS",
        "outputId": "baf6a473-63bb-4962-b58b-23fa06d20c94"
      },
      "outputs": [
        {
          "output_type": "execute_result",
          "data": {
            "text/plain": [
              "     component1  component2  y\n",
              "0      0.005477   -0.001006  1\n",
              "1      0.204483    0.044904  1\n",
              "2     -0.087482    0.021875  1\n",
              "3      0.034319   -0.122092  1\n",
              "4      0.039086    0.013469  1\n",
              "..          ...         ... ..\n",
              "587    0.172334    0.213057  1\n",
              "588   -0.015920   -0.062548  1\n",
              "589    0.263756    0.690210  1\n",
              "590    0.218608    0.029319  1\n",
              "591   -0.123525   -0.088100  1\n",
              "\n",
              "[592 rows x 3 columns]"
            ],
            "text/html": [
              "\n",
              "  <div id=\"df-4b9e6d3e-1026-425e-aec6-01a864a93e4d\">\n",
              "    <div class=\"colab-df-container\">\n",
              "      <div>\n",
              "<style scoped>\n",
              "    .dataframe tbody tr th:only-of-type {\n",
              "        vertical-align: middle;\n",
              "    }\n",
              "\n",
              "    .dataframe tbody tr th {\n",
              "        vertical-align: top;\n",
              "    }\n",
              "\n",
              "    .dataframe thead th {\n",
              "        text-align: right;\n",
              "    }\n",
              "</style>\n",
              "<table border=\"1\" class=\"dataframe\">\n",
              "  <thead>\n",
              "    <tr style=\"text-align: right;\">\n",
              "      <th></th>\n",
              "      <th>component1</th>\n",
              "      <th>component2</th>\n",
              "      <th>y</th>\n",
              "    </tr>\n",
              "  </thead>\n",
              "  <tbody>\n",
              "    <tr>\n",
              "      <th>0</th>\n",
              "      <td>0.005477</td>\n",
              "      <td>-0.001006</td>\n",
              "      <td>1</td>\n",
              "    </tr>\n",
              "    <tr>\n",
              "      <th>1</th>\n",
              "      <td>0.204483</td>\n",
              "      <td>0.044904</td>\n",
              "      <td>1</td>\n",
              "    </tr>\n",
              "    <tr>\n",
              "      <th>2</th>\n",
              "      <td>-0.087482</td>\n",
              "      <td>0.021875</td>\n",
              "      <td>1</td>\n",
              "    </tr>\n",
              "    <tr>\n",
              "      <th>3</th>\n",
              "      <td>0.034319</td>\n",
              "      <td>-0.122092</td>\n",
              "      <td>1</td>\n",
              "    </tr>\n",
              "    <tr>\n",
              "      <th>4</th>\n",
              "      <td>0.039086</td>\n",
              "      <td>0.013469</td>\n",
              "      <td>1</td>\n",
              "    </tr>\n",
              "    <tr>\n",
              "      <th>...</th>\n",
              "      <td>...</td>\n",
              "      <td>...</td>\n",
              "      <td>...</td>\n",
              "    </tr>\n",
              "    <tr>\n",
              "      <th>587</th>\n",
              "      <td>0.172334</td>\n",
              "      <td>0.213057</td>\n",
              "      <td>1</td>\n",
              "    </tr>\n",
              "    <tr>\n",
              "      <th>588</th>\n",
              "      <td>-0.015920</td>\n",
              "      <td>-0.062548</td>\n",
              "      <td>1</td>\n",
              "    </tr>\n",
              "    <tr>\n",
              "      <th>589</th>\n",
              "      <td>0.263756</td>\n",
              "      <td>0.690210</td>\n",
              "      <td>1</td>\n",
              "    </tr>\n",
              "    <tr>\n",
              "      <th>590</th>\n",
              "      <td>0.218608</td>\n",
              "      <td>0.029319</td>\n",
              "      <td>1</td>\n",
              "    </tr>\n",
              "    <tr>\n",
              "      <th>591</th>\n",
              "      <td>-0.123525</td>\n",
              "      <td>-0.088100</td>\n",
              "      <td>1</td>\n",
              "    </tr>\n",
              "  </tbody>\n",
              "</table>\n",
              "<p>592 rows × 3 columns</p>\n",
              "</div>\n",
              "      <button class=\"colab-df-convert\" onclick=\"convertToInteractive('df-4b9e6d3e-1026-425e-aec6-01a864a93e4d')\"\n",
              "              title=\"Convert this dataframe to an interactive table.\"\n",
              "              style=\"display:none;\">\n",
              "        \n",
              "  <svg xmlns=\"http://www.w3.org/2000/svg\" height=\"24px\"viewBox=\"0 0 24 24\"\n",
              "       width=\"24px\">\n",
              "    <path d=\"M0 0h24v24H0V0z\" fill=\"none\"/>\n",
              "    <path d=\"M18.56 5.44l.94 2.06.94-2.06 2.06-.94-2.06-.94-.94-2.06-.94 2.06-2.06.94zm-11 1L8.5 8.5l.94-2.06 2.06-.94-2.06-.94L8.5 2.5l-.94 2.06-2.06.94zm10 10l.94 2.06.94-2.06 2.06-.94-2.06-.94-.94-2.06-.94 2.06-2.06.94z\"/><path d=\"M17.41 7.96l-1.37-1.37c-.4-.4-.92-.59-1.43-.59-.52 0-1.04.2-1.43.59L10.3 9.45l-7.72 7.72c-.78.78-.78 2.05 0 2.83L4 21.41c.39.39.9.59 1.41.59.51 0 1.02-.2 1.41-.59l7.78-7.78 2.81-2.81c.8-.78.8-2.07 0-2.86zM5.41 20L4 18.59l7.72-7.72 1.47 1.35L5.41 20z\"/>\n",
              "  </svg>\n",
              "      </button>\n",
              "      \n",
              "  <style>\n",
              "    .colab-df-container {\n",
              "      display:flex;\n",
              "      flex-wrap:wrap;\n",
              "      gap: 12px;\n",
              "    }\n",
              "\n",
              "    .colab-df-convert {\n",
              "      background-color: #E8F0FE;\n",
              "      border: none;\n",
              "      border-radius: 50%;\n",
              "      cursor: pointer;\n",
              "      display: none;\n",
              "      fill: #1967D2;\n",
              "      height: 32px;\n",
              "      padding: 0 0 0 0;\n",
              "      width: 32px;\n",
              "    }\n",
              "\n",
              "    .colab-df-convert:hover {\n",
              "      background-color: #E2EBFA;\n",
              "      box-shadow: 0px 1px 2px rgba(60, 64, 67, 0.3), 0px 1px 3px 1px rgba(60, 64, 67, 0.15);\n",
              "      fill: #174EA6;\n",
              "    }\n",
              "\n",
              "    [theme=dark] .colab-df-convert {\n",
              "      background-color: #3B4455;\n",
              "      fill: #D2E3FC;\n",
              "    }\n",
              "\n",
              "    [theme=dark] .colab-df-convert:hover {\n",
              "      background-color: #434B5C;\n",
              "      box-shadow: 0px 1px 3px 1px rgba(0, 0, 0, 0.15);\n",
              "      filter: drop-shadow(0px 1px 2px rgba(0, 0, 0, 0.3));\n",
              "      fill: #FFFFFF;\n",
              "    }\n",
              "  </style>\n",
              "\n",
              "      <script>\n",
              "        const buttonEl =\n",
              "          document.querySelector('#df-4b9e6d3e-1026-425e-aec6-01a864a93e4d button.colab-df-convert');\n",
              "        buttonEl.style.display =\n",
              "          google.colab.kernel.accessAllowed ? 'block' : 'none';\n",
              "\n",
              "        async function convertToInteractive(key) {\n",
              "          const element = document.querySelector('#df-4b9e6d3e-1026-425e-aec6-01a864a93e4d');\n",
              "          const dataTable =\n",
              "            await google.colab.kernel.invokeFunction('convertToInteractive',\n",
              "                                                     [key], {});\n",
              "          if (!dataTable) return;\n",
              "\n",
              "          const docLinkHtml = 'Like what you see? Visit the ' +\n",
              "            '<a target=\"_blank\" href=https://colab.research.google.com/notebooks/data_table.ipynb>data table notebook</a>'\n",
              "            + ' to learn more about interactive tables.';\n",
              "          element.innerHTML = '';\n",
              "          dataTable['output_type'] = 'display_data';\n",
              "          await google.colab.output.renderOutput(dataTable, element);\n",
              "          const docLink = document.createElement('div');\n",
              "          docLink.innerHTML = docLinkHtml;\n",
              "          element.appendChild(docLink);\n",
              "        }\n",
              "      </script>\n",
              "    </div>\n",
              "  </div>\n",
              "  "
            ]
          },
          "metadata": {},
          "execution_count": 22
        }
      ],
      "source": [
        "## Obtain and clean our final train data\n",
        "\n",
        "train_data = pd.read_csv('/content/drive/MyDrive/trainset2.csv')\n",
        "train_data"
      ]
    },
    {
      "cell_type": "code",
      "execution_count": null,
      "metadata": {
        "colab": {
          "base_uri": "https://localhost:8080/"
        },
        "id": "BeRVnhM5rJdU",
        "outputId": "5d7ecf75-ea96-445e-c633-7a0c3da99f32"
      },
      "outputs": [
        {
          "output_type": "execute_result",
          "data": {
            "text/plain": [
              "1    533\n",
              "0     59\n",
              "Name: y, dtype: int64"
            ]
          },
          "metadata": {},
          "execution_count": 25
        }
      ],
      "source": [
        "## We have 533 tumor genes data and 59 normal genes data\n",
        "\n",
        "train_data.y.value_counts()"
      ]
    },
    {
      "cell_type": "code",
      "execution_count": null,
      "metadata": {
        "colab": {
          "base_uri": "https://localhost:8080/"
        },
        "id": "bZBVdNlQrJdV",
        "outputId": "9214d647-cb88-4a09-b92a-76072b853a78"
      },
      "outputs": [
        {
          "output_type": "execute_result",
          "data": {
            "text/plain": [
              "((592, 2), (592, 1))"
            ]
          },
          "metadata": {},
          "execution_count": 26
        }
      ],
      "source": [
        "## Create x and y separately from out train data\n",
        "\n",
        "x = train_data.drop(['y'], axis = 1, inplace = False).to_numpy()\n",
        "y = train_data[['y']].to_numpy()\n",
        "\n",
        "x.shape, y.shape"
      ]
    },
    {
      "cell_type": "code",
      "execution_count": null,
      "metadata": {
        "colab": {
          "base_uri": "https://localhost:8080/"
        },
        "id": "OVPAzjOrrJdW",
        "outputId": "04181a9a-7d0c-4080-ea4e-583a70583659"
      },
      "outputs": [
        {
          "output_type": "execute_result",
          "data": {
            "text/plain": [
              "((473, 2), (473, 1), (119, 2), (119, 1))"
            ]
          },
          "metadata": {},
          "execution_count": 27
        }
      ],
      "source": [
        "## We split our data into train and test split by 80/20 ratio\n",
        "\n",
        "from sklearn.model_selection import train_test_split\n",
        "train_x, test_x, train_y, test_y = train_test_split(x, y, stratify=y, test_size=0.20)\n",
        "\n",
        "train_x.shape, train_y.shape, test_x.shape, test_y.shape"
      ]
    },
    {
      "cell_type": "code",
      "execution_count": null,
      "metadata": {
        "colab": {
          "base_uri": "https://localhost:8080/"
        },
        "id": "lNbl9hIbrJdW",
        "outputId": "572cbc02-7fe9-4010-b011-7ebacd397067"
      },
      "outputs": [
        {
          "output_type": "stream",
          "name": "stdout",
          "text": [
            "[[  0  12]\n",
            " [  1 107]]\n"
          ]
        }
      ],
      "source": [
        "## We verify the stratified sampling in our test data \n",
        "## by checking number of tumors vs non-tumors\n",
        "\n",
        "unique, counts = np.unique(test_y, return_counts=True)\n",
        "print(np.asarray((unique, counts)).T)"
      ]
    },
    {
      "cell_type": "code",
      "execution_count": null,
      "metadata": {
        "id": "0giQTXk3rJdX"
      },
      "outputs": [],
      "source": [
        "from sklearn.metrics import confusion_matrix, plot_confusion_matrix, classification_report\n",
        "from sklearn.metrics import ConfusionMatrixDisplay\n",
        "\n",
        "def val_acc_class_report_error_analysis(name, model, val_x, val_y, accuracy_only=False):\n",
        "    pred_y  = model.predict(val_x)\n",
        "    cm = confusion_matrix(val_y, pred_y)\n",
        "    print('Model: {}'.format(name))\n",
        "    \n",
        "    ### Use the confusion matrix to compute (using NumPy) the accuracy (call the result 'val_acc')\n",
        "\n",
        "    val_acc = (cm.trace()) / cm.sum()\n",
        "    \n",
        "    print('--- Validation accuracy: {: .2f}%\\n'.format(val_acc*100))\n",
        "    \n",
        "    if accuracy_only:\n",
        "        return\n",
        "    \n",
        "    classes = [str(d) for d in range(0, 10)]\n",
        "    print('--- Classification Report: ')\n",
        "    \n",
        "    ### Print the classification report with 3 digits of precision\n",
        "    \n",
        "    print(classification_report(val_y, pred_y, digits=3))\n",
        "          \n",
        "    # fig = plt.figure(figsize=(10,8))\n",
        "    # ax = plt.gca()\n",
        "    # note: depending on your sklearn version, you may get a warning/error because `plot_confusion_matrix` is deprecated\n",
        "    # if so, you should use ConfusionMatrixDisplay instead and fix the code so it plots the confusion matrix\n",
        "    disp = ConfusionMatrixDisplay(cm)\n",
        "    disp.plot()\n",
        "    plt.show()"
      ]
    },
    {
      "cell_type": "code",
      "execution_count": null,
      "metadata": {
        "colab": {
          "base_uri": "https://localhost:8080/"
        },
        "id": "NzWochJbrJdZ",
        "outputId": "736c5f2c-2fa9-4300-ca1a-84b7e9d6ca4e"
      },
      "outputs": [
        {
          "output_type": "execute_result",
          "data": {
            "text/plain": [
              "{'hidden_layer_sizes': [50,\n",
              "  60,\n",
              "  70,\n",
              "  80,\n",
              "  90,\n",
              "  100,\n",
              "  110,\n",
              "  120,\n",
              "  130,\n",
              "  140,\n",
              "  150,\n",
              "  160,\n",
              "  170,\n",
              "  180,\n",
              "  190,\n",
              "  200],\n",
              " 'activation': ['identity', 'logistic', 'tanh', 'relu'],\n",
              " 'solver': ['lbfgs', 'sgd', 'adam'],\n",
              " 'learning_rate': ['constant', 'invscaling', 'adaptive']}"
            ]
          },
          "metadata": {},
          "execution_count": 30
        }
      ],
      "source": [
        "## Define our model and hyperparameters' range to tune for getting bext model\n",
        "\n",
        "param_dist = dict(hidden_layer_sizes=[x for x in range(50,201,10)], activation=['identity', 'logistic', 'tanh', 'relu'], solver=['lbfgs', 'sgd', 'adam'], learning_rate=['constant', 'invscaling', 'adaptive'])\n",
        "model = MLPClassifier(max_iter=5000,early_stopping=True,random_state=42)\n",
        "\n",
        "param_dist"
      ]
    },
    {
      "cell_type": "code",
      "execution_count": null,
      "metadata": {
        "colab": {
          "base_uri": "https://localhost:8080/"
        },
        "id": "ftvlwm0OrJda",
        "outputId": "5942978a-9d40-44d2-8f7d-586700ec2bff"
      },
      "outputs": [
        {
          "output_type": "execute_result",
          "data": {
            "text/plain": [
              "{'solver': 'lbfgs',\n",
              " 'learning_rate': 'invscaling',\n",
              " 'hidden_layer_sizes': 120,\n",
              " 'activation': 'relu'}"
            ]
          },
          "metadata": {},
          "execution_count": 31
        }
      ],
      "source": [
        "## Train our model using RandomizedSearchCV with 10 kfold for cross validation\n",
        "\n",
        "\n",
        "@ignore_warnings()\n",
        "def do_randomized_search(model, param_dist):\n",
        "    # RandomizedSearchCV class of scikit-learn to do a randomized search (use 'model')\n",
        "    # We compute accuracy as scoring function and return the result of fit() on the training data \n",
        "    \n",
        "    rs_cv = RandomizedSearchCV(model, param_distributions=param_dist, scoring='accuracy', cv = 10, random_state=42)\n",
        "    return rs_cv.fit(train_x, train_y)\n",
        "\n",
        "# Print best hyperparameters\n",
        "rs_res = do_randomized_search(model, param_dist)\n",
        "rs_res.best_params_"
      ]
    },
    {
      "cell_type": "code",
      "execution_count": null,
      "metadata": {
        "colab": {
          "base_uri": "https://localhost:8080/",
          "height": 516
        },
        "id": "hsuiOJemrJdb",
        "outputId": "cf352bfd-a141-4efe-8c07-a82d201a9d91"
      },
      "outputs": [
        {
          "output_type": "stream",
          "name": "stdout",
          "text": [
            "Model: Multi-layer Perceptron Classifier\n",
            "--- Validation accuracy:  94.12%\n",
            "\n",
            "--- Classification Report: \n",
            "              precision    recall  f1-score   support\n",
            "\n",
            "           0      0.667     0.833     0.741        12\n",
            "           1      0.981     0.953     0.967       107\n",
            "\n",
            "    accuracy                          0.941       119\n",
            "   macro avg      0.824     0.893     0.854       119\n",
            "weighted avg      0.949     0.941     0.944       119\n",
            "\n"
          ]
        },
        {
          "output_type": "display_data",
          "data": {
            "text/plain": [
              "<Figure size 432x288 with 2 Axes>"
            ],
            "image/png": "[encoded data removed]"
          },
          "metadata": {
            "needs_background": "light"
          }
        }
      ],
      "source": [
        "## Print accuracy and classification report to analyze results\n",
        "\n",
        "best_model = rs_res.best_estimator_\n",
        "val_acc_class_report_error_analysis(\"Multi-layer Perceptron Classifier\", best_model, test_x, test_y)"
      ]
    },
    {
      "cell_type": "code",
      "execution_count": null,
      "metadata": {
        "id": "9mHx84XFrJdc",
        "colab": {
          "base_uri": "https://localhost:8080/"
        },
        "outputId": "6c6421a5-4932-4632-899b-b33672f95dbd"
      },
      "outputs": [
        {
          "output_type": "execute_result",
          "data": {
            "text/plain": [
              "0.9469858156028368"
            ]
          },
          "metadata": {},
          "execution_count": 33
        }
      ],
      "source": [
        "rs_res.best_score_"
      ]
    },
    {
      "cell_type": "code",
      "source": [],
      "metadata": {
        "id": "6N8qNHUzOEXC"
      },
      "execution_count": null,
      "outputs": []
    }
  ],
  "metadata": {
    "colab": {
      "provenance": [],
      "include_colab_link": true
    },
    "kernelspec": {
      "display_name": "Python 3.7.12 ('sud_1')",
      "language": "python",
      "name": "python3"
    },
    "language_info": {
      "codemirror_mode": {
        "name": "ipython",
        "version": 3
      },
      "file_extension": ".py",
      "mimetype": "text/x-python",
      "name": "python",
      "nbconvert_exporter": "python",
      "pygments_lexer": "ipython3",
      "version": "3.7.12"
    },
    "vscode": {
      "interpreter": {
        "hash": "4078720546f67ba9cf17d2ceeafaac453cc286478b2724ee8f56a5f25142e06f"
      }
    }
  },
  "nbformat": 4,
  "nbformat_minor": 0
}